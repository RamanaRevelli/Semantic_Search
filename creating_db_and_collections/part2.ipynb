{
 "cells": [
  {
   "cell_type": "code",
   "execution_count": 4,
   "metadata": {},
   "outputs": [
    {
     "name": "stdout",
     "output_type": "stream",
     "text": [
      "938 40.721 Movie Name \"keep.breathing.s01.e04.departures.(2022).eng.1cd\", subtitle \" Advertise your product or brand here contact www OpenSubtitles org today Why did you do that We have all the time in the world Open your eyes You dont want to go to the movies tonight What if something happened to her I have a sickness I didnt choose to be this way Watch any video online with OpenSUBTITLES Free Browser extension osdb linkext\"\n",
      "80753 42.185 Movie Name \"welcome.to.eden.s02.e07.episode.2.7.(2023).eng.1cd\", subtitle \" Watch any video online with OpenSUBTITLES Free Browser extension osdb linkext ELIMINATED WELCOME TO EDEN api OpenSubtitles org is deprecated please implement REST API from OpenSubtitles com\"\n",
      "11208 42.524 Movie Name \"dated.and.related.s01.e07.big.brother.steps.in.(2022).eng.1cd\", subtitle \" Support us and become VIP member to remove all ads from www OpenSubtitles org Its interesting Julia is very very reserved even though I said to her You look fit today Shes been a bit too reserved Watch any video online with OpenSUBTITLES Free Browser extension osdb linkext\"\n",
      "80340 42.781 Movie Name \"the.diplomat.s01.e04.episode.1.4.().eng.1cd\", subtitle \" api OpenSubtitles org is deprecated please implement REST API from OpenSubtitles com Its fine Read a magazine Sir open your eyes please If you can hear me please can you open your eyes Mr Namazi Please Watch any video online with OpenSUBTITLES Free Browser extension osdb linkext\"\n",
      "11206 43.024 Movie Name \"dated.and.related.s01.e05.hypocrite.alert.(2022).eng.1cd\", subtitle \" Watch any video online with OpenSUBTITLES Free Browser extension osdb linkext I have no idea what to wear though Mine too All that matters is whether I click Is that what Nina wants yeah Please rate this subtitle at www osdb linkamh f Help other users to choose the best subtitles\"\n",
      "14950 43.048 Movie Name \"espejo.espejo.(2022).eng.1cd\", subtitle \" Watch any video online with OpenSUBTITLES Free Browser extension osdb linkext NETFLIX PRESENTS CELEBRATES YEARS WE WANT TO CELEBRATE IT WITH YOU ALL OF YOU NO LABELS YEARS OF BEAUTY TO THE MOST BEAUTIFUL HAIR SALON FIRE FORCES EVACUATION Please rate this subtitle at www osdb linkanqs Help other users to choose the best subtitles\"\n",
      "21372 43.627 Movie Name \"man.on.pause.s01.e02.episode.1.2.(2022).eng.1cd\", subtitle \" A NETFLIX SERIES Watch any video online with OpenSUBTITLES Free Browser extension osdb linkext FOR SALE HOW ABOUT THIS ONE NICE I THINK WE SHOULD USE THIS INCOMING CALL HALIT BROTHER KADIR Please rate this subtitle at www osdb linkaqwwj Help other users to choose the best subtitles\"\n",
      "46220 44.079 Movie Name \"souls.s01.e01.flug.2205.(2022).eng.1cd\", subtitle \" The following programme contains distressing scenes Watch any video online with OpenSUBTITLES Free Browser extension osdb linkext Jacob AccessibleCustomerServiceSky uk AccessibleCustomerServiceSky uk Please rate this subtitle at www osdb linkbca h Help other users to choose the best subtitles\"\n",
      "18074 44.231 Movie Name \"a.trip.to.infinity.(2022).eng.1cd\", subtitle \" Watch any video online with OpenSUBTITLES Free Browser extension osdb linkext INFINITY Its infinity Its attacking the city Maybe its trying to communicate with us We can use calculus to study its roar A picture encoded in the roar Stop fighting infinity Its peaceful Look Please rate this subtitle at www osdb linkapmm Help other users to choose the best subtitles\"\n",
      "47328 44.281 Movie Name \"kaleidoscope.s01.e09.white.the.heist.(2023).eng.1cd\", subtitle \" Watch any video online with OpenSUBTITLES Free Browser extension osdb linkext Dont say a word Wait Watch any video online with OpenSUBTITLES Free Browser extension osdb linkext\"\n"
     ]
    }
   ],
   "source": [
    "import chromadb\n",
    "from chromadb.utils import embedding_functions\n",
    "\n",
    "chroma_client = chromadb.PersistentClient(path=\"my_vectordb\")\n",
    "sentence_transformer_ef = embedding_functions.SentenceTransformerEmbeddingFunction(model_name=\"msmarco-bert-base-dot-v5\")\n",
    "\n",
    "\n",
    "collection = chroma_client.get_collection(name=\"sub\", embedding_function=sentence_transformer_ef)\n",
    "results = collection.query(\n",
    "    query_texts=[\"Watch any video online with OpenSUBTITLES\"],\n",
    "    n_results=10,\n",
    "    include=['documents', 'distances', 'metadatas'],\n",
    "    \n",
    ")\n",
    "\n",
    "if results:\n",
    "    for j in range(min(len(results['ids']), len(results['distances']), len(results['documents']), len(results['metadatas']))):\n",
    "        id_list = results[\"ids\"][j]\n",
    "        distance_list = results['distances'][j]\n",
    "        document_list = results['documents'][j]\n",
    "        metadata_list = results['metadatas'][j]\n",
    "\n",
    "        for id, distance, document, metadata in zip(id_list, distance_list, document_list, metadata_list):\n",
    "            print(f'{id} {distance:.3f} {document}')\n",
    "else:\n",
    "    print(\"No results found.\")\n"
   ]
  }
 ],
 "metadata": {
  "kernelspec": {
   "display_name": "Python 3",
   "language": "python",
   "name": "python3"
  },
  "language_info": {
   "codemirror_mode": {
    "name": "ipython",
    "version": 3
   },
   "file_extension": ".py",
   "mimetype": "text/x-python",
   "name": "python",
   "nbconvert_exporter": "python",
   "pygments_lexer": "ipython3",
   "version": "3.11.4"
  }
 },
 "nbformat": 4,
 "nbformat_minor": 2
}
